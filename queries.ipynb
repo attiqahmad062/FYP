{
 "cells": [
  {
   "cell_type": "code",
   "execution_count": null,
   "metadata": {
    "vscode": {
     "languageId": "plaintext"
    }
   },
   "outputs": [],
   "source": [
    "PREFIX ex: <https://attack.mitre.org/>\n",
    "\n",
    "SELECT DISTINCT ?url  \n",
    "WHERE {\n",
    "    ?id ex:referenceUrl ?ref .\n",
    "    ?ref ex:url ?url .\n",
    "}\n"
   ]
  },
  {
   "cell_type": "code",
   "execution_count": null,
   "metadata": {
    "vscode": {
     "languageId": "plaintext"
    }
   },
   "outputs": [],
   "source": [
    "# group selection\n",
    "PREFIX ex: <https://attack.mitre.org/>\n",
    "\n",
    "SELECT *\n",
    "WHERE {\n",
    "    ?campaign a ex:campaigns ;  \n",
    "     ex:campainName ?campaignName;\n",
    "     ex:campainId ?campaignId ;\n",
    "     ex:description ?description .\n",
    "        \n",
    "   \n",
    "}\n"
   ]
  },
  {
   "cell_type": "code",
   "execution_count": null,
   "metadata": {
    "vscode": {
     "languageId": "plaintext"
    }
   },
   "outputs": [],
   "source": [
    "# group selection\n",
    "PREFIX ex: <https://attack.mitre.org/>\n",
    "\n",
    "SELECT *\n",
    "WHERE {\n",
    "    ?campaign a ex:campaigns ;  \n",
    "     ex:campaignName ?campaignName;\n",
    "     ex:campaignId ?campaignId ;\n",
    "     ex:group_ispartof_campaigns ?group_ispartof_campaigns;\n",
    "#     ex:campaignsTechniques ?campaignsTechniques ;\n",
    "     ex:campaignsFirstseen ?campaignsFirstseen ;\n",
    "     ex:campaignsLastseen ?campaignsLastseen .\n",
    "        \n",
    "   \n",
    "}\n"
   ]
  },
  {
   "cell_type": "code",
   "execution_count": null,
   "metadata": {
    "vscode": {
     "languageId": "plaintext"
    }
   },
   "outputs": [],
   "source": [
    "PREFIX ex: <https://attack.mitre.org/> \n",
    "SELECT    *\n",
    "WHERE {\n",
    "    ?mitigation a ex:mitigations ;\n",
    "     \n",
    "     ex:mitigationName ?mitigationName ;\n",
    "     ex:description ?description .\n",
    "    BIND(str(?mitigation) AS ?mitigationId)\n",
    "}\n",
    "\n",
    "                   "
   ]
  },
  {
   "cell_type": "code",
   "execution_count": null,
   "metadata": {
    "vscode": {
     "languageId": "plaintext"
    }
   },
   "outputs": [],
   "source": [
    "PREFIX ex: <https://attack.mitre.org/> \n",
    "SELECT     ?technique ?ref\n",
    "WHERE {\n",
    "    ?technique a ex:techniques ;\n",
    "#    ex:description ?description;         \n",
    "#    ex:techniqueId \"T1203\";\n",
    "    OPTIONAL { ?technique ex:referenceUrl ?url .\n",
    "        ?url ex:url ?ref;\n",
    "    }\n",
    "    BIND(str(?technique) AS ?techniqueId)\n",
    "}\n"
   ]
  },
  {
   "cell_type": "code",
   "execution_count": null,
   "metadata": {
    "vscode": {
     "languageId": "plaintext"
    }
   },
   "outputs": [],
   "source": [
    "\n",
    "PREFIX ex: <https://attack.mitre.org/>\n",
    "SELECT  ?software ?softwareName ?softwareTechniques ?softwareId ?url\n",
    "WHERE {\n",
    "    ?software a ex:softwares ;\n",
    "    ex:softwareName ?softwareName ;\n",
    "    ex:softwareTechniques \"S0013\" ;\n",
    "    OPTIONAL { ?software ex:url ?url .\n",
    "    }\n",
    "    BIND(str(?software) AS ?softwareId)\n",
    "} "
   ]
  },
  {
   "cell_type": "code",
   "execution_count": null,
   "metadata": {
    "vscode": {
     "languageId": "plaintext"
    }
   },
   "outputs": [],
   "source": [
    "PREFIX ex: <https://attack.mitre.org/> \n",
    "SELECT ?software_id ?softwareName ?softwareTechniques ?group_uses_software\n",
    "WHERE {\n",
    "    ?software a ex:softwares ;\n",
    "    \n",
    "   ex:softwareName ?softwareName ;\n",
    "   ex:softwareTechniques ?softwareTechniques ;\n",
    "   ex:group_uses_software ?group_uses_software ;\n",
    "   ex:softwareId ?software_id .\n",
    "    \n",
    "}"
   ]
  },
  {
   "cell_type": "code",
   "execution_count": null,
   "metadata": {
    "vscode": {
     "languageId": "plaintext"
    }
   },
   "outputs": [],
   "source": [
    "PREFIX ex: <https://attack.mitre.org/> \n",
    "SELECT     *\n",
    "WHERE {\n",
    "    ?technique a ex:techniques ;\n",
    "#    ex:use ?use;         \n",
    "#    ex:techniqueId \"T1087\";\n",
    "#    ex:group_uses_techniques ?group;\n",
    "    OPTIONAL {  ?technique ex:referenceUrl ?ref .\n",
    "            ?ref ex:url ?url .\n",
    "    }\n",
    "  \n",
    "#    ?ref ex:body ?body.\n",
    "    BIND(str(?technique) AS ?techniqueId)\n",
    "}\n"
   ]
  },
  {
   "cell_type": "code",
   "execution_count": null,
   "metadata": {
    "vscode": {
     "languageId": "plaintext"
    }
   },
   "outputs": [],
   "source": [
    "PREFIX ex: <https://attack.mitre.org/> \n",
    "SELECT    *\n",
    "WHERE {\n",
    "    ?procedure a ex:procedures ;\n",
    "\n",
    "                ex:procedureName  ?procedureName;\n",
    "                ex:description ?description .\n",
    "}\n",
    "\n",
    "                   "
   ]
  },
  {
   "cell_type": "code",
   "execution_count": null,
   "metadata": {
    "vscode": {
     "languageId": "plaintext"
    }
   },
   "outputs": [],
   "source": [
    "#PREFIX ex: <https://attack.mitre.org/>\n",
    "#SELECT ?softwareId ?name ?techniques ?reference \n",
    "#WHERE {\n",
    "#    ?software a ex:softwares ;\n",
    "#              ex:name ?name ;\n",
    "#              ex:techniques ?techniques .\n",
    "#    OPTIONAL { ?software ex:ReferenceUrl ?reference }\n",
    "#    BIND(str(?software) AS ?softwareId)\n",
    "#}\n",
    "PREFIX ex: <https://attack.mitre.org/>\n",
    "SELECT  ?software ?softwareName ?softwareTechniques ?softwareId ?url\n",
    "WHERE {\n",
    "    ?software a ex:softwares ;\n",
    "    ex:softwareId ?softwareId ;\n",
    "                   ex:softwareName ?softwareName ;\n",
    "                    ex:softwareTechniques ?softwareTechniques ;\n",
    "    \n",
    "    OPTIONAL { ?software ex:url ?url .\n",
    "    }\n",
    "#    BIND(str(?software) AS ?softwareId)\n",
    "} \n",
    "\n"
   ]
  },
  {
   "cell_type": "code",
   "execution_count": null,
   "metadata": {
    "vscode": {
     "languageId": "plaintext"
    }
   },
   "outputs": [],
   "source": [
    "PREFIX ex: <https://attack.mitre.org/> \n",
    "SELECT    *\n",
    "WHERE {\n",
    "    ?detection a ex:detections ;\n",
    "     ex:dataSource ?dataSource ;\n",
    "     ex:detects ?detects ;\n",
    "     ex:dataComponent ?dataComponent ;\n",
    "    \n",
    "    BIND(str(?detection) AS ?detectionId)\n",
    "}\n",
    "\n",
    "                   "
   ]
  },
  {
   "cell_type": "code",
   "execution_count": null,
   "metadata": {
    "vscode": {
     "languageId": "plaintext"
    }
   },
   "outputs": [],
   "source": [
    "PREFIX ex: <https://attack.mitre.org/>  # Replace with the actual prefix URI from GRAPHDB_SETTINGS\n",
    "\n",
    "SELECT  *\n",
    "WHERE {\n",
    "    ?groupName a ex:groups ;  \n",
    "     ex:groupId ?groupId;\n",
    "     ex:referec\n",
    "#     ?groupName ex:description ?description;\n",
    "#    ex:associatedGroups ?associatedGroups;\n",
    "#    ex:date ?date;\n",
    "#    ex:alias ?alias;\n",
    "}\n"
   ]
  },
  {
   "cell_type": "code",
   "execution_count": null,
   "metadata": {
    "vscode": {
     "languageId": "plaintext"
    }
   },
   "outputs": [],
   "source": [
    "PREFIX ex: <https://attack.mitre.org/> \n",
    "SELECT ?techniqueId  ?body\n",
    "       (GROUP_CONCAT(DISTINCT ?url; separator=\", \") AS ?refs) \n",
    "    \n",
    "WHERE {\n",
    "    ?technique a ex:techniques ;\n",
    "#               ex:group_uses_techniques ?group;\n",
    "               ex:techniqueId \"T1585\"\n",
    "    OPTIONAL {  \n",
    "        ?technique ex:referenceUrl ?ref .\n",
    "        ?ref ex:url ?url .\n",
    "        ?ref ex:refBody ?body .  # Including body\n",
    "    }\n",
    "    BIND(str(?technique) AS ?techniqueId)\n",
    "}\n",
    "GROUP BY ?techniqueId ?body\n",
    "\n"
   ]
  }
 ],
 "metadata": {
  "language_info": {
   "name": "python"
  }
 },
 "nbformat": 4,
 "nbformat_minor": 2
}
